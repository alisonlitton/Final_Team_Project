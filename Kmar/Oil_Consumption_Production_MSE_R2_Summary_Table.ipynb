{
 "cells": [
  {
   "cell_type": "code",
   "execution_count": 1,
   "metadata": {},
   "outputs": [],
   "source": [
    "import pandas as pd\n",
    "import os"
   ]
  },
  {
   "cell_type": "markdown",
   "metadata": {},
   "source": [
    "### Import Oil Consumption MSE and R-Squared CSVs"
   ]
  },
  {
   "cell_type": "code",
   "execution_count": 2,
   "metadata": {},
   "outputs": [],
   "source": [
    "# Import CSVs\n",
    "\n",
    "oil_consumption_elastic = pd.read_csv('../data/clean_data/oil_outputs/OilConsumption_MSE_R2_ElasticNet_Table.csv')\n",
    "oil_consumption_lasso = pd.read_csv('../data/clean_data/oil_outputs/OilConsumption_MSE_R2_Lasso_Table.csv')\n",
    "oil_consumption_multiRegres = pd.read_csv('../data/clean_data/oil_outputs/OilConsumption_MSE_R2_MultiRegress_Table.csv')\n",
    "oil_consumption_ridge = pd.read_csv('../data/clean_data/oil_outputs/OilConsumption_MSE_R2_Ridge_Table.csv')"
   ]
  },
  {
   "cell_type": "markdown",
   "metadata": {},
   "source": [
    "### Combine Oil Consumption MSE and R-Squared and Output CSV"
   ]
  },
  {
   "cell_type": "code",
   "execution_count": 3,
   "metadata": {},
   "outputs": [
    {
     "data": {
      "text/html": [
       "<div>\n",
       "<style scoped>\n",
       "    .dataframe tbody tr th:only-of-type {\n",
       "        vertical-align: middle;\n",
       "    }\n",
       "\n",
       "    .dataframe tbody tr th {\n",
       "        vertical-align: top;\n",
       "    }\n",
       "\n",
       "    .dataframe thead th {\n",
       "        text-align: right;\n",
       "    }\n",
       "</style>\n",
       "<table border=\"1\" class=\"dataframe\">\n",
       "  <thead>\n",
       "    <tr style=\"text-align: right;\">\n",
       "      <th></th>\n",
       "      <th>Model</th>\n",
       "      <th>Historical MSE</th>\n",
       "      <th>Historical R-Square</th>\n",
       "    </tr>\n",
       "  </thead>\n",
       "  <tbody>\n",
       "    <tr>\n",
       "      <th>0</th>\n",
       "      <td>ElasticNet</td>\n",
       "      <td>0.066101</td>\n",
       "      <td>0.933899</td>\n",
       "    </tr>\n",
       "    <tr>\n",
       "      <th>0</th>\n",
       "      <td>Lasso</td>\n",
       "      <td>0.061019</td>\n",
       "      <td>0.938981</td>\n",
       "    </tr>\n",
       "    <tr>\n",
       "      <th>0</th>\n",
       "      <td>Multiple Regression</td>\n",
       "      <td>0.289556</td>\n",
       "      <td>0.710444</td>\n",
       "    </tr>\n",
       "    <tr>\n",
       "      <th>0</th>\n",
       "      <td>Ridge</td>\n",
       "      <td>0.239360</td>\n",
       "      <td>0.760640</td>\n",
       "    </tr>\n",
       "  </tbody>\n",
       "</table>\n",
       "</div>"
      ],
      "text/plain": [
       "                 Model  Historical MSE  Historical R-Square\n",
       "0           ElasticNet        0.066101             0.933899\n",
       "0                Lasso        0.061019             0.938981\n",
       "0  Multiple Regression        0.289556             0.710444\n",
       "0                Ridge        0.239360             0.760640"
      ]
     },
     "execution_count": 3,
     "metadata": {},
     "output_type": "execute_result"
    }
   ],
   "source": [
    "oil_consumption_MSE_R2_combined = pd.concat([oil_consumption_elastic, \n",
    "                                             oil_consumption_lasso, \n",
    "                                             oil_consumption_multiRegres, \n",
    "                                             oil_consumption_ridge])\n",
    "oil_consumption_MSE_R2_combined"
   ]
  },
  {
   "cell_type": "code",
   "execution_count": 4,
   "metadata": {},
   "outputs": [],
   "source": [
    "# Export MSE and R-Square summary table as CSV\n",
    "\n",
    "oil_consumption_MSE_R2_combined.to_csv('../data/clean_data/mse_r2_tables/FINAL_TABLES/FINAL_OilConsumption_MSE_R2_Summary_Table.csv', index=False)"
   ]
  },
  {
   "cell_type": "markdown",
   "metadata": {},
   "source": [
    "### Import Oil Production MSE and R-Squared CSVs"
   ]
  },
  {
   "cell_type": "code",
   "execution_count": 5,
   "metadata": {},
   "outputs": [],
   "source": [
    "# Import CSVs\n",
    "\n",
    "oil_production_elastic = pd.read_csv('../data/clean_data/oil_outputs/OilProduction_MSE_R2_ElasticNet_Table.csv')\n",
    "oil_production_lasso = pd.read_csv('../data/clean_data/oil_outputs/OilProduction_MSE_R2_Lasso_Table.csv')\n",
    "oil_production_multiRegres = pd.read_csv('../data/clean_data/oil_outputs/OilProduction_MSE_R2_MultiRegress_Table.csv')\n",
    "oil_production_ridge = pd.read_csv('../data/clean_data/oil_outputs/OilProduction_MSE_R2_Ridge_Table.csv')"
   ]
  },
  {
   "cell_type": "markdown",
   "metadata": {},
   "source": [
    "### Combine Oil Production MSE and R-Squared and Output CSV"
   ]
  },
  {
   "cell_type": "code",
   "execution_count": 6,
   "metadata": {},
   "outputs": [
    {
     "data": {
      "text/html": [
       "<div>\n",
       "<style scoped>\n",
       "    .dataframe tbody tr th:only-of-type {\n",
       "        vertical-align: middle;\n",
       "    }\n",
       "\n",
       "    .dataframe tbody tr th {\n",
       "        vertical-align: top;\n",
       "    }\n",
       "\n",
       "    .dataframe thead th {\n",
       "        text-align: right;\n",
       "    }\n",
       "</style>\n",
       "<table border=\"1\" class=\"dataframe\">\n",
       "  <thead>\n",
       "    <tr style=\"text-align: right;\">\n",
       "      <th></th>\n",
       "      <th>Model</th>\n",
       "      <th>Historical MSE</th>\n",
       "      <th>Historical R-Square</th>\n",
       "    </tr>\n",
       "  </thead>\n",
       "  <tbody>\n",
       "    <tr>\n",
       "      <th>0</th>\n",
       "      <td>ElasticNet</td>\n",
       "      <td>0.083173</td>\n",
       "      <td>0.916827</td>\n",
       "    </tr>\n",
       "    <tr>\n",
       "      <th>0</th>\n",
       "      <td>Lasso</td>\n",
       "      <td>0.087110</td>\n",
       "      <td>0.912890</td>\n",
       "    </tr>\n",
       "    <tr>\n",
       "      <th>0</th>\n",
       "      <td>Multiple Regression</td>\n",
       "      <td>0.550350</td>\n",
       "      <td>0.449650</td>\n",
       "    </tr>\n",
       "    <tr>\n",
       "      <th>0</th>\n",
       "      <td>Ridge</td>\n",
       "      <td>0.469756</td>\n",
       "      <td>0.530244</td>\n",
       "    </tr>\n",
       "  </tbody>\n",
       "</table>\n",
       "</div>"
      ],
      "text/plain": [
       "                 Model  Historical MSE  Historical R-Square\n",
       "0           ElasticNet        0.083173             0.916827\n",
       "0                Lasso        0.087110             0.912890\n",
       "0  Multiple Regression        0.550350             0.449650\n",
       "0                Ridge        0.469756             0.530244"
      ]
     },
     "execution_count": 6,
     "metadata": {},
     "output_type": "execute_result"
    }
   ],
   "source": [
    "oil_production_MSE_R2_combined = pd.concat([oil_production_elastic, \n",
    "                                             oil_production_lasso, \n",
    "                                             oil_production_multiRegres, \n",
    "                                             oil_production_ridge])\n",
    "oil_production_MSE_R2_combined"
   ]
  },
  {
   "cell_type": "code",
   "execution_count": 7,
   "metadata": {},
   "outputs": [],
   "source": [
    "# Export MSE and R-Square summary table as CSV\n",
    "\n",
    "oil_production_MSE_R2_combined.to_csv('../data/clean_data/mse_r2_tables/FINAL_TABLES/FINAL_OilProduction_MSE_R2_Summary_Table.csv', index=False)"
   ]
  }
 ],
 "metadata": {
  "kernelspec": {
   "display_name": "Python 3.6.10 64-bit ('PythonData': conda)",
   "language": "python",
   "name": "python361064bitpythondatacondae5997a2e410345aaa38bb48a893dd3cc"
  },
  "language_info": {
   "codemirror_mode": {
    "name": "ipython",
    "version": 3
   },
   "file_extension": ".py",
   "mimetype": "text/x-python",
   "name": "python",
   "nbconvert_exporter": "python",
   "pygments_lexer": "ipython3",
   "version": "3.6.10"
  }
 },
 "nbformat": 4,
 "nbformat_minor": 4
}
