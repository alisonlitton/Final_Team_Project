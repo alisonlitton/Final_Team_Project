{
 "cells": [
  {
   "cell_type": "code",
   "execution_count": 1,
   "metadata": {},
   "outputs": [],
   "source": [
    "%matplotlib inline\n",
    "import matplotlib.pyplot as plt\n",
    "import numpy as np\n",
    "import pandas as pd"
   ]
  },
  {
   "cell_type": "code",
   "execution_count": 2,
   "metadata": {},
   "outputs": [
    {
     "data": {
      "text/html": [
       "<div>\n",
       "<style scoped>\n",
       "    .dataframe tbody tr th:only-of-type {\n",
       "        vertical-align: middle;\n",
       "    }\n",
       "\n",
       "    .dataframe tbody tr th {\n",
       "        vertical-align: top;\n",
       "    }\n",
       "\n",
       "    .dataframe thead th {\n",
       "        text-align: right;\n",
       "    }\n",
       "</style>\n",
       "<table border=\"1\" class=\"dataframe\">\n",
       "  <thead>\n",
       "    <tr style=\"text-align: right;\">\n",
       "      <th></th>\n",
       "      <th>Unnamed: 0</th>\n",
       "      <th>Exajoules</th>\n",
       "      <th>1970</th>\n",
       "      <th>1971</th>\n",
       "      <th>1972</th>\n",
       "      <th>1973</th>\n",
       "      <th>1974</th>\n",
       "      <th>1975</th>\n",
       "      <th>1976</th>\n",
       "      <th>1977</th>\n",
       "      <th>...</th>\n",
       "      <th>2013</th>\n",
       "      <th>2014</th>\n",
       "      <th>2015</th>\n",
       "      <th>2016</th>\n",
       "      <th>2017</th>\n",
       "      <th>2018</th>\n",
       "      <th>2019</th>\n",
       "      <th>2019.1</th>\n",
       "      <th>2008-18</th>\n",
       "      <th>2019.2</th>\n",
       "    </tr>\n",
       "  </thead>\n",
       "  <tbody>\n",
       "    <tr>\n",
       "      <th>0</th>\n",
       "      <td>0</td>\n",
       "      <td>Canada</td>\n",
       "      <td>1.94</td>\n",
       "      <td>2.13</td>\n",
       "      <td>2.40</td>\n",
       "      <td>2.57</td>\n",
       "      <td>2.52</td>\n",
       "      <td>2.57</td>\n",
       "      <td>2.60</td>\n",
       "      <td>2.73</td>\n",
       "      <td>...</td>\n",
       "      <td>5.47</td>\n",
       "      <td>5.72</td>\n",
       "      <td>5.79</td>\n",
       "      <td>6.18</td>\n",
       "      <td>6.32</td>\n",
       "      <td>6.45</td>\n",
       "      <td>6.23</td>\n",
       "      <td>-3.30%</td>\n",
       "      <td>0.70%</td>\n",
       "      <td>4.30%</td>\n",
       "    </tr>\n",
       "    <tr>\n",
       "      <th>1</th>\n",
       "      <td>1</td>\n",
       "      <td>Mexico</td>\n",
       "      <td>0.40</td>\n",
       "      <td>0.39</td>\n",
       "      <td>0.41</td>\n",
       "      <td>0.44</td>\n",
       "      <td>0.47</td>\n",
       "      <td>0.47</td>\n",
       "      <td>0.46</td>\n",
       "      <td>0.49</td>\n",
       "      <td>...</td>\n",
       "      <td>1.89</td>\n",
       "      <td>1.85</td>\n",
       "      <td>1.73</td>\n",
       "      <td>1.57</td>\n",
       "      <td>1.38</td>\n",
       "      <td>1.27</td>\n",
       "      <td>1.22</td>\n",
       "      <td>-3.40%</td>\n",
       "      <td>-2.90%</td>\n",
       "      <td>0.90%</td>\n",
       "    </tr>\n",
       "    <tr>\n",
       "      <th>2</th>\n",
       "      <td>2</td>\n",
       "      <td>US</td>\n",
       "      <td>20.57</td>\n",
       "      <td>21.16</td>\n",
       "      <td>21.09</td>\n",
       "      <td>21.07</td>\n",
       "      <td>20.14</td>\n",
       "      <td>18.65</td>\n",
       "      <td>18.50</td>\n",
       "      <td>18.58</td>\n",
       "      <td>...</td>\n",
       "      <td>23.60</td>\n",
       "      <td>25.37</td>\n",
       "      <td>26.65</td>\n",
       "      <td>26.18</td>\n",
       "      <td>26.86</td>\n",
       "      <td>30.09</td>\n",
       "      <td>33.15</td>\n",
       "      <td>10.20%</td>\n",
       "      <td>4.30%</td>\n",
       "      <td>23.10%</td>\n",
       "    </tr>\n",
       "    <tr>\n",
       "      <th>3</th>\n",
       "      <td>3</td>\n",
       "      <td>Total North America</td>\n",
       "      <td>22.91</td>\n",
       "      <td>23.67</td>\n",
       "      <td>23.90</td>\n",
       "      <td>24.08</td>\n",
       "      <td>23.12</td>\n",
       "      <td>21.69</td>\n",
       "      <td>21.56</td>\n",
       "      <td>21.80</td>\n",
       "      <td>...</td>\n",
       "      <td>30.96</td>\n",
       "      <td>32.94</td>\n",
       "      <td>34.16</td>\n",
       "      <td>33.94</td>\n",
       "      <td>34.56</td>\n",
       "      <td>37.80</td>\n",
       "      <td>40.61</td>\n",
       "      <td>7.40%</td>\n",
       "      <td>3.30%</td>\n",
       "      <td>28.30%</td>\n",
       "    </tr>\n",
       "    <tr>\n",
       "      <th>4</th>\n",
       "      <td>4</td>\n",
       "      <td>Argentina</td>\n",
       "      <td>0.21</td>\n",
       "      <td>0.23</td>\n",
       "      <td>0.22</td>\n",
       "      <td>0.24</td>\n",
       "      <td>0.25</td>\n",
       "      <td>0.27</td>\n",
       "      <td>0.26</td>\n",
       "      <td>0.27</td>\n",
       "      <td>...</td>\n",
       "      <td>1.24</td>\n",
       "      <td>1.24</td>\n",
       "      <td>1.28</td>\n",
       "      <td>1.34</td>\n",
       "      <td>1.34</td>\n",
       "      <td>1.42</td>\n",
       "      <td>1.50</td>\n",
       "      <td>5.60%</td>\n",
       "      <td>-0.80%</td>\n",
       "      <td>1.00%</td>\n",
       "    </tr>\n",
       "  </tbody>\n",
       "</table>\n",
       "<p>5 rows × 55 columns</p>\n",
       "</div>"
      ],
      "text/plain": [
       "   Unnamed: 0            Exajoules   1970   1971   1972   1973   1974   1975  \\\n",
       "0           0               Canada   1.94   2.13   2.40   2.57   2.52   2.57   \n",
       "1           1               Mexico   0.40   0.39   0.41   0.44   0.47   0.47   \n",
       "2           2                   US  20.57  21.16  21.09  21.07  20.14  18.65   \n",
       "3           3  Total North America  22.91  23.67  23.90  24.08  23.12  21.69   \n",
       "4           4            Argentina   0.21   0.23   0.22   0.24   0.25   0.27   \n",
       "\n",
       "    1976   1977  ...   2013   2014   2015   2016   2017   2018   2019  2019.1  \\\n",
       "0   2.60   2.73  ...   5.47   5.72   5.79   6.18   6.32   6.45   6.23  -3.30%   \n",
       "1   0.46   0.49  ...   1.89   1.85   1.73   1.57   1.38   1.27   1.22  -3.40%   \n",
       "2  18.50  18.58  ...  23.60  25.37  26.65  26.18  26.86  30.09  33.15  10.20%   \n",
       "3  21.56  21.80  ...  30.96  32.94  34.16  33.94  34.56  37.80  40.61   7.40%   \n",
       "4   0.26   0.27  ...   1.24   1.24   1.28   1.34   1.34   1.42   1.50   5.60%   \n",
       "\n",
       "   2008-18  2019.2  \n",
       "0    0.70%   4.30%  \n",
       "1   -2.90%   0.90%  \n",
       "2    4.30%  23.10%  \n",
       "3    3.30%  28.30%  \n",
       "4   -0.80%   1.00%  \n",
       "\n",
       "[5 rows x 55 columns]"
      ]
     },
     "execution_count": 2,
     "metadata": {},
     "output_type": "execute_result"
    }
   ],
   "source": [
    "# Read the csv file into a pandas DataFrame\n",
    "gas_prod = pd.read_csv('../data/clean_data/final_gas-production-ej.csv')\n",
    "gas_prod.head()"
   ]
  },
  {
   "cell_type": "code",
   "execution_count": 3,
   "metadata": {},
   "outputs": [
    {
     "name": "stdout",
     "output_type": "stream",
     "text": [
      "Shape:  (64, 1) (64, 1)\n"
     ]
    }
   ],
   "source": [
    "# Assign the data to X and y\n",
    "# Note: Sklearn requires a two-dimensional array of values\n",
    "# so we use reshape to create this\n",
    "\n",
    "X = gas_prod[\"1970\"].values.reshape(-1, 1)\n",
    "y = gas_prod[\"Exajoules\"].values.reshape(-1, 1)\n",
    "\n",
    "print(\"Shape: \", X.shape, y.shape)"
   ]
  },
  {
   "cell_type": "code",
   "execution_count": 9,
   "metadata": {},
   "outputs": [
    {
     "data": {
      "text/plain": [
       "<matplotlib.axes._subplots.AxesSubplot at 0x24b178a6278>"
      ]
     },
     "execution_count": 9,
     "metadata": {},
     "output_type": "execute_result"
    },
    {
     "data": {
      "image/png": "[encoded data removed]",
      "text/plain": [
       "<Figure size 432x288 with 1 Axes>"
      ]
     },
     "metadata": {
      "needs_background": "light"
     },
     "output_type": "display_data"
    }
   ],
   "source": [
    "# Plot the data to see if a linear trend exists\n",
    "\n",
    "### BEGIN SOLUTION\n",
    "gas_prod.plot(kind =\"scatter\", x= \"1970\", y = \"Exajoules\")\n",
    "### END SOLUTION"
   ]
  },
  {
   "cell_type": "code",
   "execution_count": null,
   "metadata": {},
   "outputs": [],
   "source": []
  }
 ],
 "metadata": {
  "kernelspec": {
   "display_name": "Python 3.6.10 64-bit ('PythonData': conda)",
   "language": "python",
   "name": "python361064bitpythondataconda82e2dc60d6dc4aa7b6193919e74a2a47"
  },
  "language_info": {
   "codemirror_mode": {
    "name": "ipython",
    "version": 3
   },
   "file_extension": ".py",
   "mimetype": "text/x-python",
   "name": "python",
   "nbconvert_exporter": "python",
   "pygments_lexer": "ipython3",
   "version": "3.6.10"
  }
 },
 "nbformat": 4,
 "nbformat_minor": 4
}
