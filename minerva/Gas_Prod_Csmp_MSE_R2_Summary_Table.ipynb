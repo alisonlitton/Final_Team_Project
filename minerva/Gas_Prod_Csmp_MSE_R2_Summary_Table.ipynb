{
 "cells": [
  {
   "cell_type": "markdown",
   "metadata": {},
   "source": [
    "## This jupyter notebook is to consolidate the historical MSE & R-Square results into their respective field (Gas Production v. Gas Consumption)\n",
    "- Import all MSE & R-Square summary tables, concatenate in their respective field, and export as a new file in the folder 'mse_r2_tables' within the 'clean_data' folder"
   ]
  },
  {
   "cell_type": "code",
   "execution_count": 1,
   "metadata": {},
   "outputs": [],
   "source": [
    "# Import dependencies\n",
    "import pandas as pd\n",
    "import os"
   ]
  },
  {
   "cell_type": "markdown",
   "metadata": {},
   "source": [
    "### Gas Production\n",
    "-------------------------"
   ]
  },
  {
   "cell_type": "code",
   "execution_count": 2,
   "metadata": {},
   "outputs": [],
   "source": [
    "# Importing all CSV files\n",
    "gasProd_multipleRegresss = pd.read_csv('../data/clean_data/gas_outputs/GasProduction_MSE_R2_MultiRegress_Table.csv')\n",
    "gasProd_lasso = pd.read_csv('../data/clean_data/gas_outputs/GasProduction_MSE_R2_Lasso_Table.csv')\n",
    "gasProd_ridge = pd.read_csv('../data/clean_data/gas_outputs/GasProduction_MSE_R2_Ridge_Table.csv')\n",
    "gasProd_elasticNet = pd.read_csv('../data/clean_data/gas_outputs/GasProduction_MSE_R2_ElasticNet_Table.csv')"
   ]
  },
  {
   "cell_type": "code",
   "execution_count": 3,
   "metadata": {},
   "outputs": [
    {
     "data": {
      "text/html": [
       "<div>\n",
       "<style scoped>\n",
       "    .dataframe tbody tr th:only-of-type {\n",
       "        vertical-align: middle;\n",
       "    }\n",
       "\n",
       "    .dataframe tbody tr th {\n",
       "        vertical-align: top;\n",
       "    }\n",
       "\n",
       "    .dataframe thead th {\n",
       "        text-align: right;\n",
       "    }\n",
       "</style>\n",
       "<table border=\"1\" class=\"dataframe\">\n",
       "  <thead>\n",
       "    <tr style=\"text-align: right;\">\n",
       "      <th></th>\n",
       "      <th>Model</th>\n",
       "      <th>Historical MSE</th>\n",
       "      <th>Historical R-Square</th>\n",
       "    </tr>\n",
       "  </thead>\n",
       "  <tbody>\n",
       "    <tr>\n",
       "      <th>0</th>\n",
       "      <td>Multiple Regression</td>\n",
       "      <td>0.019838</td>\n",
       "      <td>0.980162</td>\n",
       "    </tr>\n",
       "    <tr>\n",
       "      <th>0</th>\n",
       "      <td>Lasso</td>\n",
       "      <td>0.026203</td>\n",
       "      <td>0.973797</td>\n",
       "    </tr>\n",
       "    <tr>\n",
       "      <th>0</th>\n",
       "      <td>Ridge</td>\n",
       "      <td>0.019412</td>\n",
       "      <td>0.980588</td>\n",
       "    </tr>\n",
       "    <tr>\n",
       "      <th>0</th>\n",
       "      <td>ElasticNet</td>\n",
       "      <td>0.027061</td>\n",
       "      <td>0.972939</td>\n",
       "    </tr>\n",
       "  </tbody>\n",
       "</table>\n",
       "</div>"
      ],
      "text/plain": [
       "                 Model  Historical MSE  Historical R-Square\n",
       "0  Multiple Regression        0.019838             0.980162\n",
       "0                Lasso        0.026203             0.973797\n",
       "0                Ridge        0.019412             0.980588\n",
       "0           ElasticNet        0.027061             0.972939"
      ]
     },
     "execution_count": 3,
     "metadata": {},
     "output_type": "execute_result"
    }
   ],
   "source": [
    "# Combining the tables from the CSV files\n",
    "gasProd_combined = pd.concat([gasProd_multipleRegresss, \n",
    "                              gasProd_lasso, \n",
    "                              gasProd_ridge, \n",
    "                              gasProd_elasticNet])\n",
    "gasProd_combined"
   ]
  },
  {
   "cell_type": "code",
   "execution_count": 4,
   "metadata": {},
   "outputs": [],
   "source": [
    "# Exporting the combined MSE and R-Square summary tables as CSV\n",
    "gasProd_combined.to_csv('../data/clean_data/mse_r2_tables/FINAL_GasProduction_MSE_R2_SummaryTable.csv', index=False)"
   ]
  },
  {
   "cell_type": "markdown",
   "metadata": {},
   "source": [
    "### Gas Consumption\n",
    "-------------------------"
   ]
  },
  {
   "cell_type": "code",
   "execution_count": 5,
   "metadata": {},
   "outputs": [],
   "source": [
    "# Importing all CSV files\n",
    "gasCsmp_multipleRegresss = pd.read_csv('../data/clean_data/gas_outputs/GasConsumption_MSE_R2_MultiRegress_Table.csv')\n",
    "gasCsmp_lasso = pd.read_csv('../data/clean_data/gas_outputs/GasConsumption_MSE_R2_Lasso_Table.csv')\n",
    "gasCsmp_ridge = pd.read_csv('../data/clean_data/gas_outputs/GasConsumption_MSE_R2_Ridge_Table.csv')\n",
    "gasCsmp_elasticNet = pd.read_csv('../data/clean_data/gas_outputs/GasConsumption_MSE_R2_ElasticNet_Table.csv')"
   ]
  },
  {
   "cell_type": "code",
   "execution_count": 6,
   "metadata": {},
   "outputs": [
    {
     "data": {
      "text/html": [
       "<div>\n",
       "<style scoped>\n",
       "    .dataframe tbody tr th:only-of-type {\n",
       "        vertical-align: middle;\n",
       "    }\n",
       "\n",
       "    .dataframe tbody tr th {\n",
       "        vertical-align: top;\n",
       "    }\n",
       "\n",
       "    .dataframe thead th {\n",
       "        text-align: right;\n",
       "    }\n",
       "</style>\n",
       "<table border=\"1\" class=\"dataframe\">\n",
       "  <thead>\n",
       "    <tr style=\"text-align: right;\">\n",
       "      <th></th>\n",
       "      <th>Model</th>\n",
       "      <th>Historical MSE</th>\n",
       "      <th>Historical R-Square</th>\n",
       "    </tr>\n",
       "  </thead>\n",
       "  <tbody>\n",
       "    <tr>\n",
       "      <th>0</th>\n",
       "      <td>Multiple Regression</td>\n",
       "      <td>0.021874</td>\n",
       "      <td>0.978126</td>\n",
       "    </tr>\n",
       "    <tr>\n",
       "      <th>0</th>\n",
       "      <td>Lasso</td>\n",
       "      <td>0.025224</td>\n",
       "      <td>0.974776</td>\n",
       "    </tr>\n",
       "    <tr>\n",
       "      <th>0</th>\n",
       "      <td>Ridge</td>\n",
       "      <td>0.021171</td>\n",
       "      <td>0.978829</td>\n",
       "    </tr>\n",
       "    <tr>\n",
       "      <th>0</th>\n",
       "      <td>ElasticNet</td>\n",
       "      <td>0.025957</td>\n",
       "      <td>0.974043</td>\n",
       "    </tr>\n",
       "  </tbody>\n",
       "</table>\n",
       "</div>"
      ],
      "text/plain": [
       "                 Model  Historical MSE  Historical R-Square\n",
       "0  Multiple Regression        0.021874             0.978126\n",
       "0                Lasso        0.025224             0.974776\n",
       "0                Ridge        0.021171             0.978829\n",
       "0           ElasticNet        0.025957             0.974043"
      ]
     },
     "execution_count": 6,
     "metadata": {},
     "output_type": "execute_result"
    }
   ],
   "source": [
    "# Combining the tables from the CSV files\n",
    "gasCsmp_combined = pd.concat([gasCsmp_multipleRegresss, \n",
    "                              gasCsmp_lasso, \n",
    "                              gasCsmp_ridge, \n",
    "                              gasCsmp_elasticNet])\n",
    "gasCsmp_combined"
   ]
  },
  {
   "cell_type": "code",
   "execution_count": 7,
   "metadata": {},
   "outputs": [],
   "source": [
    "# Exporting the combined MSE and R-Square summary tables as CSV\n",
    "gasCsmp_combined.to_csv('../data/clean_data/mse_r2_tables/FINAL_GasConsumption_MSE_R2_SummaryTable.csv', index=False)"
   ]
  },
  {
   "cell_type": "code",
   "execution_count": null,
   "metadata": {},
   "outputs": [],
   "source": []
  }
 ],
 "metadata": {
  "kernelspec": {
   "display_name": "Python 3.6.10 64-bit ('PythonData': conda)",
   "language": "python",
   "name": "python361064bitpythondataconda82e2dc60d6dc4aa7b6193919e74a2a47"
  },
  "language_info": {
   "codemirror_mode": {
    "name": "ipython",
    "version": 3
   },
   "file_extension": ".py",
   "mimetype": "text/x-python",
   "name": "python",
   "nbconvert_exporter": "python",
   "pygments_lexer": "ipython3",
   "version": "3.6.10"
  }
 },
 "nbformat": 4,
 "nbformat_minor": 4
}
